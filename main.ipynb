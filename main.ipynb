{
 "cells": [
  {
   "cell_type": "code",
   "execution_count": 1,
   "outputs": [],
   "source": [
    "#@formatter:off\n",
    "%load_ext autoreload\n",
    "%autoreload 2\n",
    "#@formatter:on"
   ],
   "metadata": {
    "collapsed": false,
    "pycharm": {
     "name": "#%%\n"
    }
   }
  },
  {
   "cell_type": "code",
   "execution_count": 2,
   "outputs": [],
   "source": [
    "from typing import List, Tuple, Optional, Iterable\n",
    "\n",
    "import matplotlib.pyplot as plt\n",
    "import numpy as np\n",
    "\n",
    "from module.builders import TranslationPathsBuilder, AtomsBuilder\n",
    "from module.helpers import CellHelper, AtomsBuilderHelper\n",
    "from module.models import (TranslateOperation, UnitConstraint, UnitConstraintsList, Atom, PositionDefinition,\n",
    "                           AtomDefinition)"
   ],
   "metadata": {
    "collapsed": false,
    "pycharm": {
     "name": "#%%\n"
    }
   }
  },
  {
   "cell_type": "markdown",
   "source": [
    "# Определения"
   ],
   "metadata": {
    "collapsed": false,
    "pycharm": {
     "name": "#%% md\n"
    }
   }
  },
  {
   "cell_type": "markdown",
   "source": [
    "## Определение ограничений и трансформаций"
   ],
   "metadata": {
    "collapsed": false,
    "pycharm": {
     "name": "#%% md\n"
    }
   }
  },
  {
   "cell_type": "code",
   "execution_count": 3,
   "outputs": [],
   "source": [
    "constraints_list = UnitConstraintsList([\n",
    "    UnitConstraint(0, 1, 1, 0.0),\n",
    "    UnitConstraint(0, 1, -1, 0.0),\n",
    "    UnitConstraint(1, -1, 0, 0.0),\n",
    "    UnitConstraint(-1, -1, 0, -0.5),\n",
    "    UnitConstraint(0, -1, 0, -0.125),\n",
    "])\n",
    "translations = [\n",
    "    TranslateOperation('xZY'),\n",
    "    TranslateOperation('xzy'),\n",
    "    TranslateOperation('yxz'),\n",
    "    TranslateOperation('YXz', np.array([1, 1, 0]) / 2),\n",
    "    TranslateOperation('ZYX', np.array([1, 1, 1]) / 4),\n",
    "]"
   ],
   "metadata": {
    "collapsed": false,
    "pycharm": {
     "name": "#%%\n"
    }
   }
  },
  {
   "cell_type": "markdown",
   "source": [
    "## Определение позиций"
   ],
   "metadata": {
    "collapsed": false,
    "pycharm": {
     "name": "#%% md\n"
    }
   }
  },
  {
   "cell_type": "code",
   "execution_count": 4,
   "outputs": [],
   "source": [
    "# b_pos = PositionDefinition('b', np.array([0.5, 0.5, 0.5]))\n",
    "# c_pos = PositionDefinition('c', np.array([0.125, 0.125, 0.125]))\n",
    "# e_pos = PositionDefinition('e', np.array([0., 0., 0.]), [np.array([1, 1, 1])])\n",
    "b_pos = PositionDefinition('b', np.array([0.5, 0., 0.]))\n",
    "c_pos = PositionDefinition('c', np.array([0.125, 0.125, 0.125]))\n",
    "e_pos = PositionDefinition('e', np.array([0., 0., 0.]), [np.array([1, 1, 1])])"
   ],
   "metadata": {
    "collapsed": false,
    "pycharm": {
     "name": "#%%\n"
    }
   }
  },
  {
   "cell_type": "code",
   "execution_count": 5,
   "outputs": [],
   "source": [
    "def get_e_position_paths() -> List[Tuple[TranslateOperation]]:\n",
    "    shifted_point = e_pos.base_point + 0.01 * e_pos.freedom_vectors[0]\n",
    "    builder = TranslationPathsBuilder(translations)\n",
    "    builder.build_from(shifted_point)\n",
    "    return builder.get_paths()\n",
    "\n",
    "\n",
    "positions_paths = {\n",
    "    e_pos: get_e_position_paths()\n",
    "}"
   ],
   "metadata": {
    "collapsed": false,
    "pycharm": {
     "name": "#%%\n"
    }
   }
  },
  {
   "cell_type": "markdown",
   "source": [
    "## Определение атомов"
   ],
   "metadata": {
    "collapsed": false,
    "pycharm": {
     "name": "#%% md\n"
    }
   }
  },
  {
   "cell_type": "code",
   "execution_count": 6,
   "outputs": [],
   "source": [
    "# FeV2O4\n",
    "# Координационное число = 6\n",
    "# https://dpva.ru/Guide/GuidePhysics/Length/IonicRadius/\n",
    "# Fe   +2\n",
    "# V    +3\n",
    "# O    -2\n",
    "# Из книги (с. 65)\n",
    "# Fe   +2   75(г)/92(в) пм\n",
    "# V    +3   78 пм\n",
    "# O    -2   126 пм\n",
    "# 1 А = 100 пм\n",
    "ferrum_definition = AtomDefinition('Fe', 0.75, b_pos)\n",
    "vanadium_definition = AtomDefinition('V', 0.78, c_pos)\n",
    "oxygenium_definition = AtomDefinition('O', 1.26, e_pos)\n",
    "atoms_definitions = [\n",
    "    ferrum_definition,\n",
    "    vanadium_definition,\n",
    "    oxygenium_definition,\n",
    "]\n",
    "constant_atoms_definitions = [\n",
    "    ferrum_definition,\n",
    "    vanadium_definition\n",
    "]"
   ],
   "metadata": {
    "collapsed": false,
    "pycharm": {
     "name": "#%%\n"
    }
   }
  },
  {
   "cell_type": "markdown",
   "source": [
    "## Создание атомов"
   ],
   "metadata": {
    "collapsed": false,
    "pycharm": {
     "name": "#%% md\n"
    }
   }
  },
  {
   "cell_type": "code",
   "execution_count": 7,
   "outputs": [
    {
     "data": {
      "text/plain": "(56, 24)"
     },
     "execution_count": 7,
     "metadata": {},
     "output_type": "execute_result"
    }
   ],
   "source": [
    "builder = AtomsBuilder(translations)\n",
    "atoms = builder.build_atoms(atoms_definitions, {e_pos: [0.01]})\n",
    "constant_atoms = builder.build_atoms(constant_atoms_definitions)\n",
    "len(atoms), len(constant_atoms)"
   ],
   "metadata": {
    "collapsed": false,
    "pycharm": {
     "name": "#%%\n"
    }
   }
  },
  {
   "cell_type": "markdown",
   "source": [
    "# Вычисление некоторых параметров перед основными вычислениями (в полуручном формате)"
   ],
   "metadata": {
    "collapsed": false,
    "pycharm": {
     "name": "#%% md\n"
    }
   }
  },
  {
   "cell_type": "markdown",
   "source": [
    "## Определение  диапазона размера ячейки для размещения константных атомов без пересечений"
   ],
   "metadata": {
    "collapsed": false,
    "pycharm": {
     "name": "#%% md\n"
    }
   }
  },
  {
   "cell_type": "code",
   "execution_count": 8,
   "outputs": [
    {
     "data": {
      "text/plain": "(True, False)"
     },
     "execution_count": 8,
     "metadata": {},
     "output_type": "execute_result"
    }
   ],
   "source": [
    "def check_intersection(atoms: List[Atom], lattice_size):\n",
    "    for i in range(len(atoms)):\n",
    "        for j in range(i + 1, len(atoms)):\n",
    "            distance = lattice_size * CellHelper.calc_periodic_distance(atoms[i].point, atoms[j].point)\n",
    "            radii_sum = atoms[i].atom_definition.radius + atoms[j].atom_definition.radius\n",
    "            if distance < radii_sum:\n",
    "                return True\n",
    "    return False\n",
    "\n",
    "check_intersection(constant_atoms, 4), check_intersection(constant_atoms, 5)"
   ],
   "metadata": {
    "collapsed": false,
    "pycharm": {
     "name": "#%%\n"
    }
   }
  },
  {
   "cell_type": "markdown",
   "source": [
    "## Точное определение нижнего значения размера ячейки (наиболее плотная упаковка постоянных атомов)"
   ],
   "metadata": {
    "collapsed": false,
    "pycharm": {
     "name": "#%% md\n"
    }
   }
  },
  {
   "cell_type": "code",
   "execution_count": 9,
   "outputs": [
    {
     "data": {
      "text/plain": "4.412346314638853"
     },
     "execution_count": 9,
     "metadata": {},
     "output_type": "execute_result"
    }
   ],
   "source": [
    "def calc_compressed_lattice_size(atoms: List[Atom], left, right):\n",
    "    while abs(right - left) > 1e-8:\n",
    "        center = (left + right) / 2\n",
    "        if check_intersection(atoms, center):\n",
    "            left = center\n",
    "        else:\n",
    "            right = center\n",
    "    return (left + right) / 2\n",
    "\n",
    "\n",
    "min_lattice_size = calc_compressed_lattice_size(constant_atoms, 4, 5)\n",
    "min_lattice_size"
   ],
   "metadata": {
    "collapsed": false,
    "pycharm": {
     "name": "#%%\n"
    }
   }
  },
  {
   "cell_type": "markdown",
   "source": [
    "# Основной блок"
   ],
   "metadata": {
    "collapsed": false,
    "pycharm": {
     "name": "#%% md\n"
    }
   }
  },
  {
   "cell_type": "markdown",
   "source": [
    "## Вычисление размера ячейки и параметра сдвига \"плавающего\" атома"
   ],
   "metadata": {
    "collapsed": false,
    "pycharm": {
     "name": "#%% md\n"
    }
   }
  },
  {
   "cell_type": "code",
   "execution_count": 10,
   "outputs": [],
   "source": [
    "class CompressionSearcher:\n",
    "    def __init__(self,\n",
    "                 min_lattice_size, max_lattice_size,\n",
    "                 min_u, max_u):\n",
    "        self._error = 1e-8\n",
    "        self._min_lattice_size = min_lattice_size\n",
    "        self._max_lattice_size = max_lattice_size\n",
    "        self._min_u = min_u\n",
    "        self._max_u = max_u\n",
    "\n",
    "    def find_compression(self) -> Optional[Tuple[float, float]]:\n",
    "        '''\n",
    "        :return: (lattice_size, u) or None\n",
    "        '''\n",
    "        left, right = self._min_lattice_size, self._max_lattice_size\n",
    "        last_valid_result = None\n",
    "        while abs(right - left) > self._error:\n",
    "            lattice_size = (right + left) / 2\n",
    "            # тот самый параметр \"плавающего\" атома\n",
    "            u = self._find_u_without_penalty(lattice_size)\n",
    "\n",
    "            if u is not None:\n",
    "                last_valid_result = (lattice_size, u)\n",
    "                right = lattice_size\n",
    "            else:\n",
    "                left = lattice_size\n",
    "\n",
    "        return last_valid_result\n",
    "\n",
    "    def _find_u_without_penalty(self, lattice_size) -> Optional[float]:\n",
    "        u = self._min_u\n",
    "        while u <= self._max_u:\n",
    "            floating_atoms = CompressionSearcher._build_floating_atoms(u)\n",
    "\n",
    "            floating_penalty = CompressionSearcher._calc_penalty_in_one_collection(\n",
    "                floating_atoms, lattice_size)\n",
    "            constant_penalty = CompressionSearcher._calc_penalty_in_two_collections(\n",
    "                constant_atoms,floating_atoms, lattice_size)\n",
    "\n",
    "            max_penalty = max(constant_penalty, floating_penalty / 2)\n",
    "\n",
    "            if max_penalty == 0:\n",
    "                return u\n",
    "\n",
    "            u += max_penalty / lattice_size\n",
    "        return None\n",
    "\n",
    "    @staticmethod\n",
    "    def _build_floating_atoms(u) -> List[Atom]:\n",
    "        return AtomsBuilderHelper.build_atoms_by_paths(\n",
    "            oxygenium_definition,\n",
    "            positions_paths[oxygenium_definition.position_definition],\n",
    "            {oxygenium_definition.position_definition: [u]}\n",
    "        )\n",
    "\n",
    "    @staticmethod\n",
    "    def _calc_penalty_in_one_collection(atoms: List[Atom], lattice_size) -> float:\n",
    "        max_penalty = 0\n",
    "        for i in range(len(atoms)):\n",
    "            for j in range(i + 1, len(atoms)):\n",
    "                distance = lattice_size * CellHelper.calc_periodic_distance(atoms[i].point, atoms[j].point)\n",
    "                radii_sum = atoms[i].atom_definition.radius + atoms[j].atom_definition.radius\n",
    "                max_penalty = max(max_penalty, radii_sum - distance)\n",
    "        return max_penalty\n",
    "\n",
    "    @staticmethod\n",
    "    def _calc_penalty_in_two_collections(first: Iterable[Atom], second: Iterable[Atom], lattice_size: float) -> float:\n",
    "        max_penalty = 0\n",
    "        for first_atom in first:\n",
    "            for second_atom in second:\n",
    "                distance = lattice_size * CellHelper.calc_periodic_distance(first_atom.point, second_atom.point)\n",
    "                radii_sum = first_atom.atom_definition.radius + second_atom.atom_definition.radius\n",
    "                max_penalty = max(max_penalty, radii_sum - distance)\n",
    "        return max_penalty"
   ],
   "metadata": {
    "collapsed": false,
    "pycharm": {
     "name": "#%%\n"
    }
   }
  },
  {
   "cell_type": "code",
   "execution_count": 11,
   "outputs": [
    {
     "name": "stdout",
     "output_type": "stream",
     "text": [
      "lattice_size=8.522754940198901, u=0.3638381544609976\n"
     ]
    }
   ],
   "source": [
    "compression_searcher = CompressionSearcher(min_lattice_size, 20, 0, 1)\n",
    "lattice_size, u = compression_searcher.find_compression()\n",
    "print(f'{lattice_size=}, {u=}')"
   ],
   "metadata": {
    "collapsed": false,
    "pycharm": {
     "name": "#%%\n"
    }
   }
  },
  {
   "cell_type": "markdown",
   "source": [
    "## Создание .vesta файла для отображения результата"
   ],
   "metadata": {
    "collapsed": false,
    "pycharm": {
     "name": "#%% md\n"
    }
   }
  },
  {
   "cell_type": "code",
   "execution_count": 12,
   "outputs": [],
   "source": [
    "# Поля, определенные внутри шаблона\n",
    "# title\n",
    "# lattice_size\n",
    "# u\n",
    "def export_to_vesta():\n",
    "    with open('template.vesta', 'r') as file:\n",
    "        template = file.read()\n",
    "    result = template.format(title='some title',\n",
    "                             lattice_size=lattice_size,\n",
    "                             u=u)\n",
    "    with open('result.vesta', 'w') as file:\n",
    "        file.write(result)\n",
    "\n",
    "\n",
    "export_to_vesta()"
   ],
   "metadata": {
    "collapsed": false,
    "pycharm": {
     "name": "#%%\n"
    }
   }
  },
  {
   "cell_type": "markdown",
   "source": [
    "# Вспомогательный блок"
   ],
   "metadata": {
    "collapsed": false,
    "pycharm": {
     "name": "#%% md\n"
    }
   }
  },
  {
   "cell_type": "markdown",
   "source": [
    "## Определение истинных позиций неприводимой ячейки"
   ],
   "metadata": {
    "collapsed": false,
    "pycharm": {
     "name": "#%% md\n"
    }
   }
  },
  {
   "cell_type": "code",
   "execution_count": 13,
   "outputs": [
    {
     "data": {
      "text/plain": "[Atom(Fe, b, [0.5 0.  0. ]),\n Atom(V, c, [0.125 0.125 0.125]),\n Atom(O, e, [0.01 0.01 0.01])]"
     },
     "execution_count": 13,
     "metadata": {},
     "output_type": "execute_result"
    }
   ],
   "source": [
    "true_base_atoms = list(\n",
    "    filter(\n",
    "        lambda a: constraints_list.check_including_bounds(a.point),\n",
    "        atoms\n",
    "    )\n",
    ")\n",
    "true_base_atoms"
   ],
   "metadata": {
    "collapsed": false,
    "pycharm": {
     "name": "#%%\n"
    }
   }
  },
  {
   "cell_type": "markdown",
   "source": [
    "### ??? Почему-то при параметре 0.35 ни одного атома кислорода не попало в неприводимую ячейку"
   ],
   "metadata": {
    "collapsed": false,
    "pycharm": {
     "name": "#%% md\n"
    }
   }
  },
  {
   "cell_type": "code",
   "execution_count": 14,
   "outputs": [
    {
     "data": {
      "text/plain": "[Atom(Fe, b, [0.5 0.  0. ]), Atom(V, c, [0.125 0.125 0.125])]"
     },
     "execution_count": 14,
     "metadata": {},
     "output_type": "execute_result"
    }
   ],
   "source": [
    "tm_builder = AtomsBuilder(translations)\n",
    "tm_atoms = tm_builder.build_atoms(atoms_definitions, {\n",
    "    oxygenium_definition.position_definition: [0.3563425503447093]\n",
    "})\n",
    "true_base_atoms = list(\n",
    "    filter(\n",
    "        lambda a: constraints_list.check_including_bounds(a.point),\n",
    "        tm_atoms\n",
    "    )\n",
    ")\n",
    "true_base_atoms\n",
    "# (8.761291446936681, 0.3563425503447093)"
   ],
   "metadata": {
    "collapsed": false,
    "pycharm": {
     "name": "#%%\n"
    }
   }
  },
  {
   "cell_type": "markdown",
   "source": [
    "## ~~Определение максимального значения свободного параметра позиции \"e\"~~\n",
    "## Некорректно, т.к. что-то непонятное с неприводимой ячейкой (см. выше)"
   ],
   "metadata": {
    "collapsed": false,
    "pycharm": {
     "name": "#%% md\n"
    }
   }
  },
  {
   "cell_type": "code",
   "execution_count": 15,
   "outputs": [
    {
     "data": {
      "text/plain": "0.125"
     },
     "execution_count": 15,
     "metadata": {},
     "output_type": "execute_result"
    }
   ],
   "source": [
    "def calc_freedom_coefficient_constraint(left, right):\n",
    "    while abs(right - left) > 1e-12:\n",
    "        c = (left + right) / 2\n",
    "        fv = e_pos.freedom_vectors[0]\n",
    "        p = e_pos.base_point + c * fv\n",
    "        if constraints_list.check_including_bounds(p):\n",
    "            left = c\n",
    "        else:\n",
    "            right = c\n",
    "    return left\n",
    "\n",
    "\n",
    "calc_freedom_coefficient_constraint(0, 1)"
   ],
   "metadata": {
    "collapsed": false,
    "pycharm": {
     "name": "#%%\n"
    }
   }
  },
  {
   "cell_type": "markdown",
   "source": [
    "## Отображение неприводимой ячейки"
   ],
   "metadata": {
    "collapsed": false,
    "pycharm": {
     "name": "#%% md\n"
    }
   }
  },
  {
   "cell_type": "code",
   "execution_count": 16,
   "outputs": [
    {
     "data": {
      "text/plain": "<Figure size 1440x1440 with 1 Axes>",
      "image/png": "[encoded data removed]"
     },
     "metadata": {
      "needs_background": "light"
     },
     "output_type": "display_data"
    }
   ],
   "source": [
    "# %%script false --no-raise-error\n",
    "\n",
    "fig = plt.figure(figsize=(20, 20))\n",
    "ax = fig.add_subplot(projection='3d')\n",
    "xs, ys, zs = [], [], []\n",
    "for x in np.linspace(0, 0.6, 60):\n",
    "    for y in np.linspace(0, 0.2, 20):\n",
    "        for z in np.linspace(0, 0.2, 20):\n",
    "            if constraints_list.check([x, y, z]):\n",
    "                xs.append(x)\n",
    "                ys.append(y)\n",
    "                zs.append(z)\n",
    "ax.scatter(xs, ys, zs, c=zs, cmap='winter')\n",
    "ax.set_xlim(0, 1)\n",
    "ax.set_ylim(0, 1)\n",
    "ax.set_zlim(0, 1)\n",
    "ax.view_init(elev=15, azim=10)"
   ],
   "metadata": {
    "collapsed": false,
    "pycharm": {
     "name": "#%%\n"
    }
   }
  }
 ],
 "metadata": {
  "kernelspec": {
   "display_name": "Python 3",
   "language": "python",
   "name": "python3"
  },
  "language_info": {
   "codemirror_mode": {
    "name": "ipython",
    "version": 2
   },
   "file_extension": ".py",
   "mimetype": "text/x-python",
   "name": "python",
   "nbconvert_exporter": "python",
   "pygments_lexer": "ipython2",
   "version": "2.7.6"
  }
 },
 "nbformat": 4,
 "nbformat_minor": 0
}